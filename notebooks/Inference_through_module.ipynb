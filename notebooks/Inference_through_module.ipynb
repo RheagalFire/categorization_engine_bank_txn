{
 "cells": [
  {
   "cell_type": "code",
   "execution_count": 1,
   "id": "c8d108f4",
   "metadata": {},
   "outputs": [],
   "source": [
    "import feature_generator\n",
    "import inference"
   ]
  },
  {
   "cell_type": "code",
   "execution_count": 2,
   "id": "906935cd",
   "metadata": {},
   "outputs": [],
   "source": [
    "feature_generator_ = feature_generator.feature_creator(fpath_output='assets',inference=True)"
   ]
  },
  {
   "cell_type": "code",
   "execution_count": 3,
   "id": "9579a405",
   "metadata": {},
   "outputs": [],
   "source": [
    "infer_pipe = inference.InferencePipeline(feature_creator=feature_generator_,model_path=\"assets/tagging_model.pkl\")"
   ]
  },
  {
   "cell_type": "code",
   "execution_count": 4,
   "id": "aa8a2f5e",
   "metadata": {},
   "outputs": [],
   "source": [
    "import json\n",
    "sample_transaction_json =json.dumps({'User': ['User2'],'Transaction': ['POS XXXXXXXXXXXX1111 IKEA INDIA PVT L']})\n",
    "\n",
    "out = infer_pipe.predict(sample_transaction_json)"
   ]
  },
  {
   "cell_type": "code",
   "execution_count": 5,
   "id": "e0a92f78",
   "metadata": {},
   "outputs": [
    {
     "data": {
      "text/plain": [
       "[[('Shopping', 0.7585190287567656),\n",
       "  ('Travel', 0.11824421107613903),\n",
       "  ('Medical', 0.05227968806902819)]]"
      ]
     },
     "execution_count": 5,
     "metadata": {},
     "output_type": "execute_result"
    }
   ],
   "source": [
    "out"
   ]
  },
  {
   "cell_type": "code",
   "execution_count": null,
   "id": "cf3d9dc7",
   "metadata": {},
   "outputs": [],
   "source": []
  }
 ],
 "metadata": {
  "kernelspec": {
   "display_name": "Python 3 (ipykernel)",
   "language": "python",
   "name": "python3"
  },
  "language_info": {
   "codemirror_mode": {
    "name": "ipython",
    "version": 3
   },
   "file_extension": ".py",
   "mimetype": "text/x-python",
   "name": "python",
   "nbconvert_exporter": "python",
   "pygments_lexer": "ipython3",
   "version": "3.8.0"
  }
 },
 "nbformat": 4,
 "nbformat_minor": 5
}
