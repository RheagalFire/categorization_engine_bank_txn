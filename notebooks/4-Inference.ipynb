{
 "cells": [
  {
   "cell_type": "code",
   "execution_count": 1,
   "id": "7d8c47ae",
   "metadata": {},
   "outputs": [],
   "source": [
    "import joblib \n",
    "import pickle\n",
    "import pandas as pd\n",
    "import numpy as np"
   ]
  },
  {
   "cell_type": "code",
   "execution_count": 2,
   "id": "d4a0bdb7",
   "metadata": {},
   "outputs": [],
   "source": [
    "loaded_model = joblib.load('tagging_model.pkl')"
   ]
  },
  {
   "cell_type": "code",
   "execution_count": 3,
   "id": "92d522b2",
   "metadata": {},
   "outputs": [],
   "source": [
    "# Open the file for reading\n",
    "# Let's Read the users_avialable file.\n",
    "with open('users_available.pkl', 'rb') as f:\n",
    "    # Load the list from the file\n",
    "    loaded_users_available = pickle.load(f)"
   ]
  },
  {
   "cell_type": "code",
   "execution_count": 18,
   "id": "cac78ae4",
   "metadata": {},
   "outputs": [],
   "source": [
    "sample_transaction = pd.DataFrame({'User': ['User2'],\n",
    "    'Transaction': ['IKEA INDIA PVT L']})"
   ]
  },
  {
   "cell_type": "code",
   "execution_count": 19,
   "id": "df469f90",
   "metadata": {},
   "outputs": [
    {
     "data": {
      "text/html": [
       "<div>\n",
       "<style scoped>\n",
       "    .dataframe tbody tr th:only-of-type {\n",
       "        vertical-align: middle;\n",
       "    }\n",
       "\n",
       "    .dataframe tbody tr th {\n",
       "        vertical-align: top;\n",
       "    }\n",
       "\n",
       "    .dataframe thead th {\n",
       "        text-align: right;\n",
       "    }\n",
       "</style>\n",
       "<table border=\"1\" class=\"dataframe\">\n",
       "  <thead>\n",
       "    <tr style=\"text-align: right;\">\n",
       "      <th></th>\n",
       "      <th>User</th>\n",
       "      <th>Transaction</th>\n",
       "    </tr>\n",
       "  </thead>\n",
       "  <tbody>\n",
       "    <tr>\n",
       "      <th>0</th>\n",
       "      <td>User2</td>\n",
       "      <td>IKEA INDIA PVT L</td>\n",
       "    </tr>\n",
       "  </tbody>\n",
       "</table>\n",
       "</div>"
      ],
      "text/plain": [
       "    User       Transaction\n",
       "0  User2  IKEA INDIA PVT L"
      ]
     },
     "execution_count": 19,
     "metadata": {},
     "output_type": "execute_result"
    }
   ],
   "source": [
    "sample_transaction"
   ]
  },
  {
   "cell_type": "code",
   "execution_count": 20,
   "id": "ef5145c0",
   "metadata": {},
   "outputs": [],
   "source": [
    "## Let us try with all-MiniLM-L6-v2\n",
    "from sentence_transformers import SentenceTransformer"
   ]
  },
  {
   "cell_type": "code",
   "execution_count": 21,
   "id": "ee5ae728",
   "metadata": {
    "scrolled": true
   },
   "outputs": [],
   "source": [
    "# Lets get the embeddings from the sentances\n",
    "sentences = sample_transaction['Transaction'].to_list()\n",
    "model = SentenceTransformer('sentence-transformers/all-MiniLM-L6-v2')\n",
    "embeddings = model.encode(sentences)\n",
    "inference_dataset = pd.concat([sample_transaction,pd.DataFrame(embeddings)],axis=1)\n",
    "# print(embeddings)"
   ]
  },
  {
   "cell_type": "code",
   "execution_count": 22,
   "id": "05bfbe52",
   "metadata": {},
   "outputs": [
    {
     "data": {
      "text/html": [
       "<div>\n",
       "<style scoped>\n",
       "    .dataframe tbody tr th:only-of-type {\n",
       "        vertical-align: middle;\n",
       "    }\n",
       "\n",
       "    .dataframe tbody tr th {\n",
       "        vertical-align: top;\n",
       "    }\n",
       "\n",
       "    .dataframe thead th {\n",
       "        text-align: right;\n",
       "    }\n",
       "</style>\n",
       "<table border=\"1\" class=\"dataframe\">\n",
       "  <thead>\n",
       "    <tr style=\"text-align: right;\">\n",
       "      <th></th>\n",
       "      <th>User</th>\n",
       "      <th>Transaction</th>\n",
       "      <th>0</th>\n",
       "      <th>1</th>\n",
       "      <th>2</th>\n",
       "      <th>3</th>\n",
       "      <th>4</th>\n",
       "      <th>5</th>\n",
       "      <th>6</th>\n",
       "      <th>7</th>\n",
       "      <th>...</th>\n",
       "      <th>374</th>\n",
       "      <th>375</th>\n",
       "      <th>376</th>\n",
       "      <th>377</th>\n",
       "      <th>378</th>\n",
       "      <th>379</th>\n",
       "      <th>380</th>\n",
       "      <th>381</th>\n",
       "      <th>382</th>\n",
       "      <th>383</th>\n",
       "    </tr>\n",
       "  </thead>\n",
       "  <tbody>\n",
       "    <tr>\n",
       "      <th>0</th>\n",
       "      <td>User2</td>\n",
       "      <td>IKEA INDIA PVT L</td>\n",
       "      <td>-0.078475</td>\n",
       "      <td>0.011922</td>\n",
       "      <td>-0.015605</td>\n",
       "      <td>0.000085</td>\n",
       "      <td>0.01587</td>\n",
       "      <td>0.040188</td>\n",
       "      <td>0.032911</td>\n",
       "      <td>0.035053</td>\n",
       "      <td>...</td>\n",
       "      <td>-0.032525</td>\n",
       "      <td>0.024515</td>\n",
       "      <td>-0.028897</td>\n",
       "      <td>0.046615</td>\n",
       "      <td>-0.009152</td>\n",
       "      <td>0.053157</td>\n",
       "      <td>0.072258</td>\n",
       "      <td>-0.053432</td>\n",
       "      <td>-0.093978</td>\n",
       "      <td>0.053792</td>\n",
       "    </tr>\n",
       "  </tbody>\n",
       "</table>\n",
       "<p>1 rows × 386 columns</p>\n",
       "</div>"
      ],
      "text/plain": [
       "    User       Transaction         0         1         2         3        4  \\\n",
       "0  User2  IKEA INDIA PVT L -0.078475  0.011922 -0.015605  0.000085  0.01587   \n",
       "\n",
       "          5         6         7  ...       374       375       376       377  \\\n",
       "0  0.040188  0.032911  0.035053  ... -0.032525  0.024515 -0.028897  0.046615   \n",
       "\n",
       "        378       379       380       381       382       383  \n",
       "0 -0.009152  0.053157  0.072258 -0.053432 -0.093978  0.053792  \n",
       "\n",
       "[1 rows x 386 columns]"
      ]
     },
     "execution_count": 22,
     "metadata": {},
     "output_type": "execute_result"
    }
   ],
   "source": [
    "inference_dataset"
   ]
  },
  {
   "cell_type": "code",
   "execution_count": 23,
   "id": "c3aadbcd",
   "metadata": {},
   "outputs": [],
   "source": [
    "# What this function basically does is that it ensures that when there is a new user which is not seen at the \n",
    "# time of training it replaces that with -1.\n",
    "inference_dataset['User_id'] = inference_dataset['User'].apply(lambda x:x.replace('User','') if x in loaded_users_available else -1)"
   ]
  },
  {
   "cell_type": "code",
   "execution_count": 24,
   "id": "aefc24c4",
   "metadata": {},
   "outputs": [],
   "source": [
    "# Column names can't be of mixed datatype therefore change it to string \n",
    "num_dimensions = 384\n",
    "column_mapping = {i: f'Feature{i}' for i in range(num_dimensions+1)}\n",
    "inference_dataset = inference_dataset.rename(columns=column_mapping)"
   ]
  },
  {
   "cell_type": "code",
   "execution_count": 25,
   "id": "550f0381",
   "metadata": {},
   "outputs": [],
   "source": [
    "predictor_point = inference_dataset.drop(columns=['User','Transaction'])"
   ]
  },
  {
   "cell_type": "code",
   "execution_count": 26,
   "id": "679c2bad",
   "metadata": {},
   "outputs": [
    {
     "data": {
      "text/html": [
       "<div>\n",
       "<style scoped>\n",
       "    .dataframe tbody tr th:only-of-type {\n",
       "        vertical-align: middle;\n",
       "    }\n",
       "\n",
       "    .dataframe tbody tr th {\n",
       "        vertical-align: top;\n",
       "    }\n",
       "\n",
       "    .dataframe thead th {\n",
       "        text-align: right;\n",
       "    }\n",
       "</style>\n",
       "<table border=\"1\" class=\"dataframe\">\n",
       "  <thead>\n",
       "    <tr style=\"text-align: right;\">\n",
       "      <th></th>\n",
       "      <th>Feature0</th>\n",
       "      <th>Feature1</th>\n",
       "      <th>Feature2</th>\n",
       "      <th>Feature3</th>\n",
       "      <th>Feature4</th>\n",
       "      <th>Feature5</th>\n",
       "      <th>Feature6</th>\n",
       "      <th>Feature7</th>\n",
       "      <th>Feature8</th>\n",
       "      <th>Feature9</th>\n",
       "      <th>...</th>\n",
       "      <th>Feature375</th>\n",
       "      <th>Feature376</th>\n",
       "      <th>Feature377</th>\n",
       "      <th>Feature378</th>\n",
       "      <th>Feature379</th>\n",
       "      <th>Feature380</th>\n",
       "      <th>Feature381</th>\n",
       "      <th>Feature382</th>\n",
       "      <th>Feature383</th>\n",
       "      <th>User_id</th>\n",
       "    </tr>\n",
       "  </thead>\n",
       "  <tbody>\n",
       "    <tr>\n",
       "      <th>0</th>\n",
       "      <td>-0.078475</td>\n",
       "      <td>0.011922</td>\n",
       "      <td>-0.015605</td>\n",
       "      <td>0.000085</td>\n",
       "      <td>0.01587</td>\n",
       "      <td>0.040188</td>\n",
       "      <td>0.032911</td>\n",
       "      <td>0.035053</td>\n",
       "      <td>0.027151</td>\n",
       "      <td>-0.003045</td>\n",
       "      <td>...</td>\n",
       "      <td>0.024515</td>\n",
       "      <td>-0.028897</td>\n",
       "      <td>0.046615</td>\n",
       "      <td>-0.009152</td>\n",
       "      <td>0.053157</td>\n",
       "      <td>0.072258</td>\n",
       "      <td>-0.053432</td>\n",
       "      <td>-0.093978</td>\n",
       "      <td>0.053792</td>\n",
       "      <td>2</td>\n",
       "    </tr>\n",
       "  </tbody>\n",
       "</table>\n",
       "<p>1 rows × 385 columns</p>\n",
       "</div>"
      ],
      "text/plain": [
       "   Feature0  Feature1  Feature2  Feature3  Feature4  Feature5  Feature6  \\\n",
       "0 -0.078475  0.011922 -0.015605  0.000085   0.01587  0.040188  0.032911   \n",
       "\n",
       "   Feature7  Feature8  Feature9  ...  Feature375  Feature376  Feature377  \\\n",
       "0  0.035053  0.027151 -0.003045  ...    0.024515   -0.028897    0.046615   \n",
       "\n",
       "   Feature378  Feature379  Feature380  Feature381  Feature382  Feature383  \\\n",
       "0   -0.009152    0.053157    0.072258   -0.053432   -0.093978    0.053792   \n",
       "\n",
       "   User_id  \n",
       "0        2  \n",
       "\n",
       "[1 rows x 385 columns]"
      ]
     },
     "execution_count": 26,
     "metadata": {},
     "output_type": "execute_result"
    }
   ],
   "source": [
    "predictor_point"
   ]
  },
  {
   "cell_type": "code",
   "execution_count": 27,
   "id": "163133f9",
   "metadata": {},
   "outputs": [],
   "source": [
    "# prediction top 3 tags \n",
    "y_proba = loaded_model.predict_proba(predictor_point)"
   ]
  },
  {
   "cell_type": "code",
   "execution_count": 28,
   "id": "3eaeca9c",
   "metadata": {},
   "outputs": [],
   "source": [
    "# Sort By values\n",
    "top_three = np.argsort(y_proba, axis=1)[:, -3:]\n",
    "top_three_labels = np.array([loaded_model.classes_[i] for i in top_three])\n",
    "top_three_probs = np.sort(y_proba, axis=1)[:, -3:]\n",
    "top_three_with_probs = [sorted(zip(labels, probs), key=lambda x: x[1], reverse=True) for labels, probs in zip(top_three_labels, top_three_probs)]"
   ]
  },
  {
   "cell_type": "code",
   "execution_count": 29,
   "id": "10e16152",
   "metadata": {},
   "outputs": [
    {
     "data": {
      "text/plain": [
       "[[('Shopping', 0.7585190287567656),\n",
       "  ('Travel', 0.11824421107613903),\n",
       "  ('Medical', 0.05227968806902819)]]"
      ]
     },
     "execution_count": 29,
     "metadata": {},
     "output_type": "execute_result"
    }
   ],
   "source": [
    "top_three_with_probs"
   ]
  },
  {
   "cell_type": "code",
   "execution_count": null,
   "id": "c626a3aa",
   "metadata": {},
   "outputs": [],
   "source": []
  },
  {
   "cell_type": "code",
   "execution_count": null,
   "id": "aa4f7719",
   "metadata": {},
   "outputs": [],
   "source": []
  }
 ],
 "metadata": {
  "kernelspec": {
   "display_name": "Python 3 (ipykernel)",
   "language": "python",
   "name": "python3"
  },
  "language_info": {
   "codemirror_mode": {
    "name": "ipython",
    "version": 3
   },
   "file_extension": ".py",
   "mimetype": "text/x-python",
   "name": "python",
   "nbconvert_exporter": "python",
   "pygments_lexer": "ipython3",
   "version": "3.8.0"
  }
 },
 "nbformat": 4,
 "nbformat_minor": 5
}
